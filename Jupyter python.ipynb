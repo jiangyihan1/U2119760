{
 "cells": [
  {
   "cell_type": "code",
   "execution_count": 1,
   "id": "aee6733b",
   "metadata": {},
   "outputs": [],
   "source": [
    "def morse(txt):\n",
    "    encrypt = {'A':'.-', 'B':'-...', 'C':'-.-.',\n",
    "               'D':'-..', 'E':'.', 'F':'..-.',\n",
    "               'G':'--.', 'H':'....', 'I':'..',\n",
    "               'J':'.---', 'K':'-.-', 'L':'.-..',\n",
    "               'M':'--', 'N':'-.', 'O':'---',\n",
    "               'P':'.--.', 'Q':'--.-', 'R':'.-.',\n",
    "               'S':'...', 'T':'-', 'U':'..-',\n",
    "               'V':'...-', 'W':'.--', 'X':'-..-',\n",
    "               'Y':'-.--', 'Z':'--..', ' ':'.....'}\n",
    "    decrypt = {v: k for k, v in encrypt.items()}\n",
    "    \n",
    "    if '-' in txt:\n",
    "        return ''.join(decrypt[i] for i in txt.split())\n",
    "    return ' '.join(encrypt[i] for i in txt.upper())"
   ]
  },
  {
   "cell_type": "code",
   "execution_count": 2,
   "id": "2a9eda79",
   "metadata": {},
   "outputs": [
    {
     "name": "stdout",
     "output_type": "stream",
     "text": [
      ".... . .-.. .-.. --- ..... .-- --- .-. .-.. -..\n"
     ]
    }
   ],
   "source": [
    "print(morse('Hello World'))"
   ]
  },
  {
   "cell_type": "code",
   "execution_count": 3,
   "id": "106f523c",
   "metadata": {},
   "outputs": [
    {
     "name": "stdout",
     "output_type": "stream",
     "text": [
      "Uppercase: 2,Lowercase: 8\n"
     ]
    }
   ],
   "source": [
    "def up_low (s):\n",
    "    u = sum(1 for i in s if i.isupper())\n",
    "    l = sum(1 for i in s if i.islower())\n",
    "    print(\"Uppercase: %s,Lowercase: %s\" % (u,l))\n",
    "up_low (\"Hello World\")"
   ]
  },
  {
   "cell_type": "code",
   "execution_count": null,
   "id": "57983474",
   "metadata": {},
   "outputs": [],
   "source": []
  }
 ],
 "metadata": {
  "kernelspec": {
   "display_name": "Python 3",
   "language": "python",
   "name": "python3"
  },
  "language_info": {
   "codemirror_mode": {
    "name": "ipython",
    "version": 3
   },
   "file_extension": ".py",
   "mimetype": "text/x-python",
   "name": "python",
   "nbconvert_exporter": "python",
   "pygments_lexer": "ipython3",
   "version": "3.8.8"
  }
 },
 "nbformat": 4,
 "nbformat_minor": 5
}
